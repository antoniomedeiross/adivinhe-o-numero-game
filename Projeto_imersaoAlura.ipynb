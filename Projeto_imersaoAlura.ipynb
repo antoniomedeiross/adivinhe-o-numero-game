{
  "nbformat": 4,
  "nbformat_minor": 0,
  "metadata": {
    "colab": {
      "provenance": [],
      "authorship_tag": "ABX9TyMkyavdqO95FS8muLjQ7RD+",
      "include_colab_link": true
    },
    "kernelspec": {
      "name": "python3",
      "display_name": "Python 3"
    },
    "language_info": {
      "name": "python"
    }
  },
  "cells": [
    {
      "cell_type": "markdown",
      "metadata": {
        "id": "view-in-github",
        "colab_type": "text"
      },
      "source": [
        "<a href=\"https://colab.research.google.com/github/antoniomedeiross/adivinhe-o-numero-game/blob/main/Projeto_imersaoAlura.ipynb\" target=\"_parent\"><img src=\"https://colab.research.google.com/assets/colab-badge.svg\" alt=\"Open In Colab\"/></a>"
      ]
    },
    {
      "cell_type": "markdown",
      "source": [
        "Instalando a biblioteca do google generative ai"
      ],
      "metadata": {
        "id": "gTx0jOd5DXWK"
      }
    },
    {
      "cell_type": "code",
      "execution_count": 29,
      "metadata": {
        "id": "qZvBtLiwba3l"
      },
      "outputs": [],
      "source": [
        "!pip install -q -U google-generativeai"
      ]
    },
    {
      "cell_type": "markdown",
      "source": [
        "Importando a bibilioteca e passando a api key do google aiStudio"
      ],
      "metadata": {
        "id": "u0JMpYOwDnsJ"
      }
    },
    {
      "cell_type": "code",
      "source": [
        "import google.generativeai as genai\n",
        "\n",
        "GOOGLE_API_KEY='SUA_API_KEY'\n",
        "genai.configure(api_key=GOOGLE_API_KEY)"
      ],
      "metadata": {
        "id": "TFZ5I6PQCbAT"
      },
      "execution_count": null,
      "outputs": []
    },
    {
      "cell_type": "markdown",
      "source": [],
      "metadata": {
        "id": "1T-bfBwlDkcK"
      }
    },
    {
      "cell_type": "code",
      "source": [
        "generate_config = {\n",
        "    'candidate_count': 1,\n",
        "    'temperature': 0.9,\n",
        "}"
      ],
      "metadata": {
        "id": "1A-WYfrEEWhc"
      },
      "execution_count": 35,
      "outputs": []
    },
    {
      "cell_type": "code",
      "source": [
        "safety_settings = {\n",
        "    'HARASSMENT': 'BLOCK_NONE',\n",
        "    'HATE': 'BLOCK_NONE',\n",
        "    'SEXUAL': 'BLOCK_NONE',\n",
        "    'DANGEROUS': 'BLOCK_NONE',\n",
        "}"
      ],
      "metadata": {
        "id": "E1y3ivUnEorR"
      },
      "execution_count": null,
      "outputs": []
    },
    {
      "cell_type": "markdown",
      "source": [
        "iNICIANDO O MODELO"
      ],
      "metadata": {
        "id": "zkkarkHDFUHd"
      }
    },
    {
      "cell_type": "code",
      "source": [
        "model = genai.GenerativeModel(model_name='gemini-1.0-pro', generation_config=generate_config, safety_settings=safety_settings)"
      ],
      "metadata": {
        "id": "76tZkFpaFWbM"
      },
      "execution_count": null,
      "outputs": []
    },
    {
      "cell_type": "markdown",
      "source": [
        "Criando um response"
      ],
      "metadata": {
        "id": "9ssCT294GKXL"
      }
    },
    {
      "cell_type": "code",
      "source": [
        "response = model.generate_content('olá')\n",
        "print(response.text)"
      ],
      "metadata": {
        "colab": {
          "base_uri": "https://localhost:8080/",
          "height": 34
        },
        "id": "h9TJAkS4GJd_",
        "outputId": "d87db9f8-1965-454e-ef58-7c21011ff5f9"
      },
      "execution_count": null,
      "outputs": [
        {
          "output_type": "stream",
          "name": "stdout",
          "text": [
            "Olá! Como posso ajudá-lo hoje?\n"
          ]
        }
      ]
    },
    {
      "cell_type": "code",
      "source": [
        "chat = model.start_chat(history=[])\n",
        "print(chat.history)"
      ],
      "metadata": {
        "id": "R3ftT57FLVwa",
        "colab": {
          "base_uri": "https://localhost:8080/"
        },
        "outputId": "c4ef83c0-85ff-4d38-fabf-60e1a61dde15"
      },
      "execution_count": 32,
      "outputs": [
        {
          "output_type": "stream",
          "name": "stdout",
          "text": [
            "[]\n"
          ]
        }
      ]
    },
    {
      "cell_type": "code",
      "source": [
        "prompt = 'resolva esse problema matemático passo a passo, de forma que uma pessoa entenda cada passo e porque os passos são importantes para a resolução: '\n",
        "info_user = input('Digite o problema matemático que deseja vizualizar passo a passo da resolução: ')\n",
        "while info_user != 'stop':\n",
        "  print('#'*100)\n",
        "  response = chat.send_message(prompt + info_user)\n",
        "  print(f'resposta: {response.text}')\n",
        "  print('#'*100)\n",
        "  info_user = input('Digite o problema matemático que deseja vizualizar passo a passo da resolução:[caso queira parar dígite=stop] ')"
      ],
      "metadata": {
        "colab": {
          "base_uri": "https://localhost:8080/",
          "height": 1000
        },
        "id": "OWQ0fCyLHgf1",
        "outputId": "a0ee5396-7489-4d06-92e5-09e38e271ea4"
      },
      "execution_count": 42,
      "outputs": [
        {
          "name": "stdout",
          "output_type": "stream",
          "text": [
            "Digite o problema matemático que deseja vizualizar passo a passo da resolução: 5x^2+10x-20=0\n",
            "####################################################################################################\n",
            "resposta: **Passo 1: Fatorar a equação**\n",
            "\n",
            "Fatoramos a equação usando fatoração quadrática:\n",
            "\n",
            "```\n",
            "5x^2 + 10x - 20 = 0\n",
            "5(x^2 + 2x - 4) = 0\n",
            "```\n",
            "\n",
            "**Passo 2: Resolver cada fator igual a zero**\n",
            "\n",
            "Resolvemos cada fator igual a zero:\n",
            "\n",
            "```\n",
            "x^2 + 2x - 4 = 0\n",
            "(x + 4)(x - 1) = 0\n",
            "```\n",
            "\n",
            "**Passo 3: Isolar x em cada fator**\n",
            "\n",
            "Isolamos x em cada fator:\n",
            "\n",
            "```\n",
            "x + 4 = 0\n",
            "x - 1 = 0\n",
            "```\n",
            "\n",
            "```\n",
            "x = -4\n",
            "x = 1\n",
            "```\n",
            "\n",
            "**Portanto, os valores de x são -4 e 1.**\n",
            "\n",
            "**Por que esses passos são importantes?**\n",
            "\n",
            "Cada passo é importante para fatorar a equação e encontrar os valores de x.\n",
            "\n",
            "* **Passo 1:** Fatorar a equação nos permite decompô-la em fatores mais simples.\n",
            "* **Passo 2:** Resolver cada fator igual a zero nos permite encontrar os valores de x que tornam a equação verdadeira.\n",
            "* **Passo 3:** Isolar x em cada fator nos permite encontrar os valores específicos de x.\n",
            "####################################################################################################\n",
            "Digite o problema matemático que deseja vizualizar passo a passo da resolução:[caso queira parar dígite=stop] 20-10+44\n",
            "####################################################################################################\n",
            "resposta: **Passo 1: Realizar a primeira operação (subtração)**\n",
            "\n",
            "Subtraímos 10 de 20:\n",
            "\n",
            "```\n",
            "20 - 10 = 10\n",
            "```\n",
            "\n",
            "**Passo 2: Realizar a segunda operação (adição)**\n",
            "\n",
            "Adicionamos 44 a 10:\n",
            "\n",
            "```\n",
            "10 + 44 = 54\n",
            "```\n",
            "\n",
            "**Portanto, o resultado é 54.**\n",
            "\n",
            "**Por que esses passos são importantes?**\n",
            "\n",
            "Cada passo é importante para realizar as operações matemáticas corretamente e chegar ao resultado correto.\n",
            "\n",
            "* **Passo 1:** A subtração é realizada primeiro porque ela vem antes da adição na ordem das operações.\n",
            "* **Passo 2:** A adição é realizada em seguida para encontrar o resultado final.\n",
            "####################################################################################################\n",
            "Digite o problema matemático que deseja vizualizar passo a passo da resolução:[caso queira parar dígite=stop] stop\n"
          ]
        }
      ]
    }
  ]
}